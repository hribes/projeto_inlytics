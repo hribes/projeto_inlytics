{
 "cells": [
  {
   "cell_type": "markdown",
   "metadata": {},
   "source": [
    "## Fluxo do notebook:\n",
    "- Análise exploratória dos dados\n",
    "    - Compreenção das variáveis (Tipos)\n",
    "    - Análise descritiva\n",
    "    - Detecção de outliers (histograma, boxplot)\n",
    "    - Padrões e Relações (relação entre variáveis)\n",
    "    - Avaliar a presença de dados faltantes (imputação, remoção, etc)\n",
    "    - Verificação de suposições"
   ]
  },
  {
   "cell_type": "markdown",
   "metadata": {},
   "source": [
    "##### Neg.\n",
    "\n",
    "Após fazer uma limpeza e seleção das variáveis que poderão ser utilizadas no decorrer do projeto, iremos compreender melhor como é a sua distribuição e relação entre variáveis. Temos aqui dois dataframes, um relacionado a vendas de produtos e outro relacionado aos clientes em si e suas características.\n",
    "\n",
    "##### Objetivo\n",
    "\n",
    "Compreender os dados para a realização dos próximos processamentos, sendo eles: RFM, Sazonalidade e probabilidade de Churn. Será realizado também a Feature Engineer para melhorar os dados para o modelo. A estruturação dos testes para os processamentos citados será realizado em outro notebook com todo o processo explicado."
   ]
  },
  {
   "cell_type": "markdown",
   "metadata": {},
   "source": [
    "Abaixo temos as importações das bibliotecas que serão usadas, tanto para a análise, quanto para a utilização da env."
   ]
  },
  {
   "cell_type": "code",
   "execution_count": 23,
   "metadata": {},
   "outputs": [],
   "source": [
    "import pandas as pd\n",
    "import numpy as np\n",
    "import matplotlib.pyplot as plt\n",
    "import seaborn as sns"
   ]
  },
  {
   "cell_type": "code",
   "execution_count": 24,
   "metadata": {},
   "outputs": [
    {
     "data": {
      "text/plain": [
       "True"
      ]
     },
     "execution_count": 24,
     "metadata": {},
     "output_type": "execute_result"
    }
   ],
   "source": [
    "import os\n",
    "from dotenv import load_dotenv\n",
    "load_dotenv()"
   ]
  },
  {
   "cell_type": "code",
   "execution_count": 25,
   "metadata": {},
   "outputs": [],
   "source": [
    "dados_vendas_limpo = os.getenv(\"ENDERECO_DADOS_LIMPOS_VENDAS\")\n",
    "dados_clientes_limpo = os.getenv(\"ENDERECO_DADOS_LIMPOS_CLIENTES\")\n",
    "df_vendas_limpo = pd.read_csv(dados_vendas_limpo)\n",
    "df_clientes_limpo = pd.read_csv(dados_clientes_limpo)"
   ]
  },
  {
   "cell_type": "markdown",
   "metadata": {},
   "source": [
    "DataFrame:\n",
    "- CustomerID: Identificador único do cliente.\n",
    "- Churn: Indica se um cliente cancelou o serviço (1) ou se está ativo (0).\n",
    "- Tenure: Duranção da permanência do cliente com a empresa. Em meses.\n",
    "- PreferredLoginDevice: Dispositivo preferido do cliente para acesso à conta (exemplo, smartphone, desktop, etc.)\n",
    "- PreferredPaymentMode: Modo de pagamento preferido pelo cliente (cartão de crédito, débito, etc.)\n",
    "- Gender: Gênero do cliente (masculino, feminino ou outro).\n",
    "- "
   ]
  },
  {
   "cell_type": "markdown",
   "metadata": {},
   "source": [
    "### Análise dos dados\n",
    "\n",
    "- Análise univariada dos dados\n",
    "- Análise multivariada dos dados"
   ]
  },
  {
   "cell_type": "code",
   "execution_count": 26,
   "metadata": {},
   "outputs": [
    {
     "name": "stdout",
     "output_type": "stream",
     "text": [
      "Há 4 dados numéricos, sendo eles:\n",
      "['InvoiceNo', 'Quantity', 'UnitPrice', 'CustomerID']\n",
      "\n",
      "Há 4 dados categóricos, sendo eles:\n",
      "['StockCode', 'Description', 'InvoiceDate', 'Country']\n"
     ]
    }
   ],
   "source": [
    "numericos = df_vendas_limpo.select_dtypes('number').columns.tolist()\n",
    "categoricos = df_vendas_limpo.select_dtypes('object').columns.tolist()\n",
    "\n",
    "print(f\"Há {len(numericos)} dados numéricos, sendo eles:\")\n",
    "print(numericos)\n",
    "print(f\"\\nHá {len(categoricos)} dados categóricos, sendo eles:\")\n",
    "print(categoricos)"
   ]
  },
  {
   "cell_type": "code",
   "execution_count": 27,
   "metadata": {},
   "outputs": [
    {
     "name": "stdout",
     "output_type": "stream",
     "text": [
      "Há 7 dados numéricos, sendo eles:\n",
      "['CustomerID', 'Churn', 'Tenure', 'NumberOfDeviceRegistered', 'SatisfactionScore', 'Complain', 'CouponUsed']\n",
      "\n",
      "Há 5 dados categóricos, sendo eles:\n",
      "['PreferredLoginDevice', 'PreferredPaymentMode', 'Gender', 'MaritalStatus', 'NomeCustomer']\n"
     ]
    }
   ],
   "source": [
    "numericos2 = df_clientes_limpo.select_dtypes('number').columns.tolist()\n",
    "categoricos2 = df_clientes_limpo.select_dtypes('object').columns.tolist()\n",
    "\n",
    "print(f\"Há {len(numericos2)} dados numéricos, sendo eles:\")\n",
    "print(numericos2)\n",
    "print(f\"\\nHá {len(categoricos2)} dados categóricos, sendo eles:\")\n",
    "print(categoricos2)"
   ]
  },
  {
   "cell_type": "code",
   "execution_count": 28,
   "metadata": {},
   "outputs": [
    {
     "name": "stdout",
     "output_type": "stream",
     "text": [
      "PreferredLoginDevice\n",
      "----------------------------------------\n",
      "Há 4 valores únicos, sendo eles:\n",
      "PreferredLoginDevice\n",
      "Mobile Phone    0.483532\n",
      "Computer        0.290256\n",
      "Phone           0.216148\n",
      "0               0.010064\n",
      "Name: proportion, dtype: float64\n",
      "\n",
      "PreferredPaymentMode\n",
      "----------------------------------------\n",
      "Há 7 valores únicos, sendo eles:\n",
      "PreferredPaymentMode\n",
      "Debit Card          0.407539\n",
      "Credit Card         0.265529\n",
      "E wallet            0.109531\n",
      "UPI                 0.074206\n",
      "COD                 0.065434\n",
      "CC                  0.050735\n",
      "Cash on Delivery    0.027027\n",
      "Name: proportion, dtype: float64\n",
      "\n",
      "Gender\n",
      "----------------------------------------\n",
      "Há 2 valores únicos, sendo eles:\n",
      "Gender\n",
      "Male      0.607502\n",
      "Female    0.392498\n",
      "Name: proportion, dtype: float64\n",
      "\n",
      "MaritalStatus\n",
      "----------------------------------------\n",
      "Há 3 valores únicos, sendo eles:\n",
      "MaritalStatus\n",
      "Married     0.532446\n",
      "Single      0.319468\n",
      "Divorced    0.148087\n",
      "Name: proportion, dtype: float64\n",
      "\n",
      "NomeCustomer\n",
      "----------------------------------------\n",
      "Há 4136 valores únicos, sendo eles:\n",
      "NomeCustomer\n",
      "Igor Barbosa          0.000686\n",
      "Apollo Vargas         0.000686\n",
      "Benício Fernandes     0.000686\n",
      "Pedro Miguel Sousa    0.000686\n",
      "Agatha Cassiano       0.000686\n",
      "                        ...   \n",
      "Dr. Ravy da Rocha     0.000229\n",
      "Arthur Castro         0.000229\n",
      "Augusto da Rocha      0.000229\n",
      "Apollo Caldeira       0.000229\n",
      "Sr. Otávio Andrade    0.000229\n",
      "Name: proportion, Length: 4136, dtype: float64\n",
      "\n"
     ]
    }
   ],
   "source": [
    "for elemento in categoricos2:\n",
    "  print(elemento)\n",
    "  print('-'*40)\n",
    "  print(f'Há {df_clientes_limpo[elemento].nunique()} valores únicos, sendo eles:')\n",
    "  print(f'{df_clientes_limpo[elemento].value_counts(normalize=True)}\\n')"
   ]
  },
  {
   "cell_type": "markdown",
   "metadata": {},
   "source": [
    "### **Estatística descritiva dos dados numéricos**\n",
    "\n",
    "A primeira é referente a tabela de vendas e a segunda é sobre a tabela de clientes."
   ]
  },
  {
   "cell_type": "code",
   "execution_count": 29,
   "metadata": {},
   "outputs": [
    {
     "data": {
      "text/html": [
       "<div>\n",
       "<style scoped>\n",
       "    .dataframe tbody tr th:only-of-type {\n",
       "        vertical-align: middle;\n",
       "    }\n",
       "\n",
       "    .dataframe tbody tr th {\n",
       "        vertical-align: top;\n",
       "    }\n",
       "\n",
       "    .dataframe thead th {\n",
       "        text-align: right;\n",
       "    }\n",
       "</style>\n",
       "<table border=\"1\" class=\"dataframe\">\n",
       "  <thead>\n",
       "    <tr style=\"text-align: right;\">\n",
       "      <th></th>\n",
       "      <th>count</th>\n",
       "      <th>mean</th>\n",
       "      <th>std</th>\n",
       "      <th>min</th>\n",
       "      <th>25%</th>\n",
       "      <th>50%</th>\n",
       "      <th>75%</th>\n",
       "      <th>max</th>\n",
       "    </tr>\n",
       "  </thead>\n",
       "  <tbody>\n",
       "    <tr>\n",
       "      <th>Quantity</th>\n",
       "      <td>397884.0</td>\n",
       "      <td>12.988238</td>\n",
       "      <td>179.331775</td>\n",
       "      <td>1.000</td>\n",
       "      <td>2.00</td>\n",
       "      <td>6.00</td>\n",
       "      <td>12.00</td>\n",
       "      <td>80995.00</td>\n",
       "    </tr>\n",
       "    <tr>\n",
       "      <th>UnitPrice</th>\n",
       "      <td>397884.0</td>\n",
       "      <td>3.116488</td>\n",
       "      <td>22.097877</td>\n",
       "      <td>0.001</td>\n",
       "      <td>1.25</td>\n",
       "      <td>1.95</td>\n",
       "      <td>3.75</td>\n",
       "      <td>8142.75</td>\n",
       "    </tr>\n",
       "  </tbody>\n",
       "</table>\n",
       "</div>"
      ],
      "text/plain": [
       "              count       mean         std    min   25%   50%    75%       max\n",
       "Quantity   397884.0  12.988238  179.331775  1.000  2.00  6.00  12.00  80995.00\n",
       "UnitPrice  397884.0   3.116488   22.097877  0.001  1.25  1.95   3.75   8142.75"
      ]
     },
     "execution_count": 29,
     "metadata": {},
     "output_type": "execute_result"
    }
   ],
   "source": [
    "df_vendas_limpo.describe().T.drop(labels=[\"CustomerID\", \"InvoiceNo\"])"
   ]
  },
  {
   "cell_type": "markdown",
   "metadata": {},
   "source": [
    "**Quantidade Vendida:**\n",
    "- A quantidade média de produtos vendidos por transação é de aproximadamente 13 unidades.\n",
    "- A quantidade vendida varia significativamente, com um desvio padrão de 179 unidades, indicando que há transações com volumes muito grandes.\n",
    "- A mediana é de 6 unidades, sugerindo que a maioria das transações envolve pequenas quantidades. O valor máximo é extremamente alto (80995 unidades), o que pode indicar grandes pedidos ou vendas em massa.\n",
    "- 25% das transações envolvem até 2 unidades, enquanto 75% envolvem até 12 unidades.\n",
    "\n",
    "**Preço Unitário:**\n",
    "- O preço médio por unidade é de aproximadamente R$ 3.12.\n",
    "- O desvio padrão é alto (R$ 22.10), indicando uma grande variação nos preços dos produtos.\n",
    "- A mediana é de R$ 1.95, sugerindo que a maioria dos produtos tem preços baixos. O preço máximo é extremamente alto (R$ 8142.75), o que pode indicar produtos de luxo ou itens com preços especiais.\n",
    "- 25% dos produtos são vendidos por até R$ 1.25, enquanto 75% são vendidos por até R$ 3.75."
   ]
  },
  {
   "cell_type": "code",
   "execution_count": 30,
   "metadata": {},
   "outputs": [
    {
     "data": {
      "text/html": [
       "<div>\n",
       "<style scoped>\n",
       "    .dataframe tbody tr th:only-of-type {\n",
       "        vertical-align: middle;\n",
       "    }\n",
       "\n",
       "    .dataframe tbody tr th {\n",
       "        vertical-align: top;\n",
       "    }\n",
       "\n",
       "    .dataframe thead th {\n",
       "        text-align: right;\n",
       "    }\n",
       "</style>\n",
       "<table border=\"1\" class=\"dataframe\">\n",
       "  <thead>\n",
       "    <tr style=\"text-align: right;\">\n",
       "      <th></th>\n",
       "      <th>count</th>\n",
       "      <th>mean</th>\n",
       "      <th>std</th>\n",
       "      <th>min</th>\n",
       "      <th>25%</th>\n",
       "      <th>50%</th>\n",
       "      <th>75%</th>\n",
       "      <th>max</th>\n",
       "    </tr>\n",
       "  </thead>\n",
       "  <tbody>\n",
       "    <tr>\n",
       "      <th>Churn</th>\n",
       "      <td>4372.0</td>\n",
       "      <td>0.168115</td>\n",
       "      <td>0.374011</td>\n",
       "      <td>0.0</td>\n",
       "      <td>0.0</td>\n",
       "      <td>0.0</td>\n",
       "      <td>0.0</td>\n",
       "      <td>1.0</td>\n",
       "    </tr>\n",
       "    <tr>\n",
       "      <th>Tenure</th>\n",
       "      <td>4166.0</td>\n",
       "      <td>-169.971675</td>\n",
       "      <td>1331.164566</td>\n",
       "      <td>-10000.0</td>\n",
       "      <td>2.0</td>\n",
       "      <td>9.0</td>\n",
       "      <td>16.0</td>\n",
       "      <td>61.0</td>\n",
       "    </tr>\n",
       "    <tr>\n",
       "      <th>NumberOfDeviceRegistered</th>\n",
       "      <td>4218.0</td>\n",
       "      <td>3.687055</td>\n",
       "      <td>1.027591</td>\n",
       "      <td>1.0</td>\n",
       "      <td>3.0</td>\n",
       "      <td>4.0</td>\n",
       "      <td>4.0</td>\n",
       "      <td>6.0</td>\n",
       "    </tr>\n",
       "    <tr>\n",
       "      <th>SatisfactionScore</th>\n",
       "      <td>4372.0</td>\n",
       "      <td>11056.005947</td>\n",
       "      <td>79955.731128</td>\n",
       "      <td>1.0</td>\n",
       "      <td>2.0</td>\n",
       "      <td>3.0</td>\n",
       "      <td>4.0</td>\n",
       "      <td>589314.0</td>\n",
       "    </tr>\n",
       "    <tr>\n",
       "      <th>Complain</th>\n",
       "      <td>4372.0</td>\n",
       "      <td>0.285224</td>\n",
       "      <td>0.451573</td>\n",
       "      <td>0.0</td>\n",
       "      <td>0.0</td>\n",
       "      <td>0.0</td>\n",
       "      <td>1.0</td>\n",
       "      <td>1.0</td>\n",
       "    </tr>\n",
       "    <tr>\n",
       "      <th>CouponUsed</th>\n",
       "      <td>4173.0</td>\n",
       "      <td>1.773784</td>\n",
       "      <td>1.891626</td>\n",
       "      <td>0.0</td>\n",
       "      <td>1.0</td>\n",
       "      <td>1.0</td>\n",
       "      <td>2.0</td>\n",
       "      <td>16.0</td>\n",
       "    </tr>\n",
       "  </tbody>\n",
       "</table>\n",
       "</div>"
      ],
      "text/plain": [
       "                           count          mean           std      min  25%  \\\n",
       "Churn                     4372.0      0.168115      0.374011      0.0  0.0   \n",
       "Tenure                    4166.0   -169.971675   1331.164566 -10000.0  2.0   \n",
       "NumberOfDeviceRegistered  4218.0      3.687055      1.027591      1.0  3.0   \n",
       "SatisfactionScore         4372.0  11056.005947  79955.731128      1.0  2.0   \n",
       "Complain                  4372.0      0.285224      0.451573      0.0  0.0   \n",
       "CouponUsed                4173.0      1.773784      1.891626      0.0  1.0   \n",
       "\n",
       "                          50%   75%       max  \n",
       "Churn                     0.0   0.0       1.0  \n",
       "Tenure                    9.0  16.0      61.0  \n",
       "NumberOfDeviceRegistered  4.0   4.0       6.0  \n",
       "SatisfactionScore         3.0   4.0  589314.0  \n",
       "Complain                  0.0   1.0       1.0  \n",
       "CouponUsed                1.0   2.0      16.0  "
      ]
     },
     "execution_count": 30,
     "metadata": {},
     "output_type": "execute_result"
    }
   ],
   "source": [
    "df_clientes_limpo.describe().T.drop(labels=[\"CustomerID\"])"
   ]
  },
  {
   "cell_type": "markdown",
   "metadata": {},
   "source": [
    "**Churn:**\n",
    "- A taxa média de churn (abandono) é de aproximadamente 16.8%, indicando que cerca de 1 em cada 6 clientes pode estar abandonando a plataforma.\n",
    "- A maioria dos clientes não abandonou (mediana e percentis inferiores são 0), sugerindo que a maioria dos clientes permanece ativa.\n",
    "\n",
    "**Tenure:**\n",
    "- A média de tenure (tempo de permanência) é negativa (-169.93), o que pode indicar um erro nos dados ou uma interpretação errada da variável. Se for um erro de dados, pode ser necessário revisar a coleta ou processamento dos dados.\n",
    "- O desvio padrão é alto (1331), sugerindo uma grande variação no tempo de permanência dos clientes.\n",
    "- A mediana é de 9 dias, e o 75º percentil é de 16 dias, indicando que muitos clientes permanecem por um curto período.\n",
    "\n",
    "**NumberOfDeviceRegistered:**\n",
    "- Em média, os clientes registram cerca de 3.69 dispositivos.\n",
    "- O desvio padrão é baixo (1.03), indicando pouca variação.\n",
    "- A maioria dos clientes registra entre 3 e 4 dispositivos.\n",
    "\n",
    "**SatisfactionScore:**\n",
    "- A pontuação média de satisfação é extremamente alta (11053.48), o que pode indicar um erro nos dados ou uma escala de avaliação não convencional.\n",
    "- O desvio padrão é muito alto (79946.76), sugerindo uma grande variação nas pontuações de satisfação.\n",
    "- A mediana é de apenas 3, enquanto o valor máximo é extremamente alto (589314), o que pode indicar outliers ou erros nos dados.\n",
    "\n",
    "**Complain:**\n",
    "- A média de reclamações é de aproximadamente 0.29, sugerindo que cerca de 29% dos clientes registraram alguma reclamação.\n",
    "- A maioria dos clientes não registrou reclamações (mediana e percentis inferiores são 0).\n",
    "\n",
    "**CouponUsed:**\n",
    "- Em média, os clientes usam cerca de 1.77 cupons.\n",
    "- O desvio padrão é de 1.89, indicando uma variação moderada.\n",
    "- A maioria dos clientes usa entre 1 e 2 cupons."
   ]
  },
  {
   "cell_type": "code",
   "execution_count": 31,
   "metadata": {},
   "outputs": [
    {
     "data": {
      "text/html": [
       "<div>\n",
       "<style scoped>\n",
       "    .dataframe tbody tr th:only-of-type {\n",
       "        vertical-align: middle;\n",
       "    }\n",
       "\n",
       "    .dataframe tbody tr th {\n",
       "        vertical-align: top;\n",
       "    }\n",
       "\n",
       "    .dataframe thead th {\n",
       "        text-align: right;\n",
       "    }\n",
       "</style>\n",
       "<table border=\"1\" class=\"dataframe\">\n",
       "  <thead>\n",
       "    <tr style=\"text-align: right;\">\n",
       "      <th></th>\n",
       "      <th>count</th>\n",
       "      <th>unique</th>\n",
       "      <th>top</th>\n",
       "      <th>freq</th>\n",
       "    </tr>\n",
       "  </thead>\n",
       "  <tbody>\n",
       "    <tr>\n",
       "      <th>PreferredLoginDevice</th>\n",
       "      <td>4372</td>\n",
       "      <td>4</td>\n",
       "      <td>Mobile Phone</td>\n",
       "      <td>2114</td>\n",
       "    </tr>\n",
       "    <tr>\n",
       "      <th>PreferredPaymentMode</th>\n",
       "      <td>4218</td>\n",
       "      <td>7</td>\n",
       "      <td>Debit Card</td>\n",
       "      <td>1719</td>\n",
       "    </tr>\n",
       "    <tr>\n",
       "      <th>Gender</th>\n",
       "      <td>4372</td>\n",
       "      <td>2</td>\n",
       "      <td>Male</td>\n",
       "      <td>2656</td>\n",
       "    </tr>\n",
       "    <tr>\n",
       "      <th>MaritalStatus</th>\n",
       "      <td>4207</td>\n",
       "      <td>3</td>\n",
       "      <td>Married</td>\n",
       "      <td>2240</td>\n",
       "    </tr>\n",
       "    <tr>\n",
       "      <th>NomeCustomer</th>\n",
       "      <td>4372</td>\n",
       "      <td>4136</td>\n",
       "      <td>Igor Barbosa</td>\n",
       "      <td>3</td>\n",
       "    </tr>\n",
       "  </tbody>\n",
       "</table>\n",
       "</div>"
      ],
      "text/plain": [
       "                     count unique           top  freq\n",
       "PreferredLoginDevice  4372      4  Mobile Phone  2114\n",
       "PreferredPaymentMode  4218      7    Debit Card  1719\n",
       "Gender                4372      2          Male  2656\n",
       "MaritalStatus         4207      3       Married  2240\n",
       "NomeCustomer          4372   4136  Igor Barbosa     3"
      ]
     },
     "execution_count": 31,
     "metadata": {},
     "output_type": "execute_result"
    }
   ],
   "source": [
    "df_clientes_limpo[categoricos2].describe().T"
   ]
  },
  {
   "cell_type": "markdown",
   "metadata": {},
   "source": [
    "**PreferredLoginDevice (Dispositivo Preferido de Login):**\n",
    "- O Mobile Phone é o dispositivo preferido por 2115 clientes, representando aproximadamente 48% do total.\n",
    "- Existem 4 tipos de dispositivos usados para login, mas o Mobile Phone é claramente dominante, sugerindo que a maioria dos clientes prefere acessar o e-commerce por dispositivos móveis.\n",
    "- A experiência do usuário em dispositivos móveis deve ser uma prioridade para o e-commerce, incluindo design responsivo, velocidade de carregamento e facilidade de navegação.\n",
    "\n",
    "**PreferredPaymentMode (Modo de Pagamento Preferido):**\n",
    "- O Debit Card é o método de pagamento mais utilizado, com 1720 clientes preferindo essa opção.\n",
    "- Existem 7 métodos de pagamento disponíveis, indicando que o e-commerce oferece uma boa diversidade de opções para atender às necessidades dos clientes.\n",
    "- Como o cartão de débito é amplamente preferido, garantir a segurança e a eficiência das transações com esse método pode melhorar a satisfação do cliente. Além disso, explorar incentivos para outros métodos pode equilibrar a preferência.\n",
    "\n",
    "**Gender (Gênero):**\n",
    "- A maioria dos clientes é do gênero Masculino, com 2512 registros (cerca de 57% do total).\n",
    "- Existem 4 categorias de gênero registradas, indicando que a plataforma atende a uma base diversificada de clientes.\n",
    "- Campanhas de marketing podem ser direcionadas ao público masculino, mas também é importante considerar estratégias inclusivas para atrair outros gêneros.\n",
    "\n",
    "**MaritalStatus (Estado Civil):**\n",
    "- A maioria dos clientes é Casada, com 2240 registros (aproximadamente 53% do total).\n",
    "- Existem apenas 3 categorias de estado civil registradas.\n",
    "- Ofertas ou campanhas específicas para casais ou famílias podem ser eficazes, considerando que mais da metade dos clientes está casada."
   ]
  },
  {
   "cell_type": "code",
   "execution_count": 32,
   "metadata": {},
   "outputs": [
    {
     "data": {
      "text/html": [
       "<div>\n",
       "<style scoped>\n",
       "    .dataframe tbody tr th:only-of-type {\n",
       "        vertical-align: middle;\n",
       "    }\n",
       "\n",
       "    .dataframe tbody tr th {\n",
       "        vertical-align: top;\n",
       "    }\n",
       "\n",
       "    .dataframe thead th {\n",
       "        text-align: right;\n",
       "    }\n",
       "</style>\n",
       "<table border=\"1\" class=\"dataframe\">\n",
       "  <thead>\n",
       "    <tr style=\"text-align: right;\">\n",
       "      <th></th>\n",
       "      <th>count</th>\n",
       "      <th>unique</th>\n",
       "      <th>top</th>\n",
       "      <th>freq</th>\n",
       "    </tr>\n",
       "  </thead>\n",
       "  <tbody>\n",
       "    <tr>\n",
       "      <th>StockCode</th>\n",
       "      <td>397884</td>\n",
       "      <td>3665</td>\n",
       "      <td>85123A</td>\n",
       "      <td>2035</td>\n",
       "    </tr>\n",
       "    <tr>\n",
       "      <th>Description</th>\n",
       "      <td>397884</td>\n",
       "      <td>3877</td>\n",
       "      <td>WHITE HANGING HEART T-LIGHT HOLDER</td>\n",
       "      <td>2028</td>\n",
       "    </tr>\n",
       "    <tr>\n",
       "      <th>InvoiceDate</th>\n",
       "      <td>397884</td>\n",
       "      <td>17282</td>\n",
       "      <td>2011-11-14 15:27:00</td>\n",
       "      <td>542</td>\n",
       "    </tr>\n",
       "    <tr>\n",
       "      <th>Country</th>\n",
       "      <td>397884</td>\n",
       "      <td>37</td>\n",
       "      <td>United Kingdom</td>\n",
       "      <td>354321</td>\n",
       "    </tr>\n",
       "  </tbody>\n",
       "</table>\n",
       "</div>"
      ],
      "text/plain": [
       "              count unique                                 top    freq\n",
       "StockCode    397884   3665                              85123A    2035\n",
       "Description  397884   3877  WHITE HANGING HEART T-LIGHT HOLDER    2028\n",
       "InvoiceDate  397884  17282                 2011-11-14 15:27:00     542\n",
       "Country      397884     37                      United Kingdom  354321"
      ]
     },
     "execution_count": 32,
     "metadata": {},
     "output_type": "execute_result"
    }
   ],
   "source": [
    "df_vendas_limpo[categoricos].describe().T"
   ]
  },
  {
   "cell_type": "markdown",
   "metadata": {},
   "source": [
    "**StockCode (Código do Estoque):**\n",
    "- Existem 3665 códigos únicos de estoque, indicando uma ampla diversidade de produtos disponíveis no e-commerce.\n",
    "- O código de estoque mais frequente é 85123A, com 2035 vendas registradas.\n",
    "- O produto associado ao código 85123A é popular e pode ser promovido em campanhas de marketing ou destacado em ofertas especiais. Além disso, analisar os motivos por trás de sua alta demanda pode ajudar a replicar o sucesso em outros produtos.\n",
    "\n",
    "**Description (Descrição do Produto):**\n",
    "- Há 3877 descrições únicas, o que está alinhado com a diversidade de produtos no estoque.\n",
    "- O item mais vendido é o WHITE HANGING HEART T-LIGHT HOLDER, com 2028 vendas. Este produto parece ser um dos favoritos dos clientes.\n",
    "- Esse produto pode ser usado como referência para identificar tendências ou preferências dos consumidores (como itens decorativos). Além disso, é uma oportunidade para criar estratégias de upselling ou cross-selling com produtos similares.\n",
    "\n",
    "**InvoiceDate (Data da Fatura):**\n",
    "- Há 17.282 datas únicas registradas, indicando que as vendas ocorreram em diferentes momentos ao longo do período analisado.\n",
    "- A data mais frequente é 2011-11-14 às 15:27, com 542 transações realizadas nesse momento específico.\n",
    "- Esse pico pode indicar sazonalidade ou eventos especiais que impulsionaram as vendas nesse dia. É importante investigar se houve promoções ou campanhas específicas nessa data para replicar o sucesso em outros períodos.\n",
    "\n",
    "**Country (País):**\n",
    "- O e-commerce realizou vendas para clientes em 37 países, mostrando uma presença internacional significativa.\n",
    "- O Reino Unido lidera as vendas, com 354.321 transações (cerca de 89% do total).\n",
    "- Embora o Reino Unido seja o principal mercado, há potencial para expandir a presença nos outros países. Investir em estratégias localizadas para os mercados internacionais pode aumentar a base de clientes fora do Reino Unido."
   ]
  },
  {
   "cell_type": "code",
   "execution_count": 33,
   "metadata": {},
   "outputs": [
    {
     "data": {
      "text/html": [
       "<div>\n",
       "<style scoped>\n",
       "    .dataframe tbody tr th:only-of-type {\n",
       "        vertical-align: middle;\n",
       "    }\n",
       "\n",
       "    .dataframe tbody tr th {\n",
       "        vertical-align: top;\n",
       "    }\n",
       "\n",
       "    .dataframe thead th {\n",
       "        text-align: right;\n",
       "    }\n",
       "</style>\n",
       "<table border=\"1\" class=\"dataframe\">\n",
       "  <thead>\n",
       "    <tr style=\"text-align: right;\">\n",
       "      <th></th>\n",
       "      <th>CustomerID</th>\n",
       "      <th>Churn</th>\n",
       "      <th>Tenure</th>\n",
       "      <th>PreferredLoginDevice</th>\n",
       "      <th>PreferredPaymentMode</th>\n",
       "      <th>Gender</th>\n",
       "      <th>NumberOfDeviceRegistered</th>\n",
       "      <th>SatisfactionScore</th>\n",
       "      <th>MaritalStatus</th>\n",
       "      <th>Complain</th>\n",
       "      <th>CouponUsed</th>\n",
       "      <th>NomeCustomer</th>\n",
       "    </tr>\n",
       "  </thead>\n",
       "  <tbody>\n",
       "    <tr>\n",
       "      <th>0</th>\n",
       "      <td>17850.0</td>\n",
       "      <td>1</td>\n",
       "      <td>4.0</td>\n",
       "      <td>Mobile Phone</td>\n",
       "      <td>Debit Card</td>\n",
       "      <td>Female</td>\n",
       "      <td>3.0</td>\n",
       "      <td>2</td>\n",
       "      <td>Single</td>\n",
       "      <td>1</td>\n",
       "      <td>1.0</td>\n",
       "      <td>Srta. Amanda Sousa</td>\n",
       "    </tr>\n",
       "    <tr>\n",
       "      <th>1</th>\n",
       "      <td>13047.0</td>\n",
       "      <td>1</td>\n",
       "      <td>NaN</td>\n",
       "      <td>Phone</td>\n",
       "      <td>UPI</td>\n",
       "      <td>Male</td>\n",
       "      <td>4.0</td>\n",
       "      <td>3</td>\n",
       "      <td>Single</td>\n",
       "      <td>1</td>\n",
       "      <td>0.0</td>\n",
       "      <td>Joaquim Câmara</td>\n",
       "    </tr>\n",
       "    <tr>\n",
       "      <th>2</th>\n",
       "      <td>12583.0</td>\n",
       "      <td>1</td>\n",
       "      <td>NaN</td>\n",
       "      <td>Phone</td>\n",
       "      <td>Debit Card</td>\n",
       "      <td>Male</td>\n",
       "      <td>4.0</td>\n",
       "      <td>3</td>\n",
       "      <td>Single</td>\n",
       "      <td>1</td>\n",
       "      <td>0.0</td>\n",
       "      <td>Cauã Rocha</td>\n",
       "    </tr>\n",
       "    <tr>\n",
       "      <th>3</th>\n",
       "      <td>13748.0</td>\n",
       "      <td>1</td>\n",
       "      <td>0.0</td>\n",
       "      <td>Phone</td>\n",
       "      <td>Debit Card</td>\n",
       "      <td>Male</td>\n",
       "      <td>4.0</td>\n",
       "      <td>589314</td>\n",
       "      <td>Single</td>\n",
       "      <td>0</td>\n",
       "      <td>0.0</td>\n",
       "      <td>Sr. Otávio Andrade</td>\n",
       "    </tr>\n",
       "    <tr>\n",
       "      <th>4</th>\n",
       "      <td>15100.0</td>\n",
       "      <td>1</td>\n",
       "      <td>0.0</td>\n",
       "      <td>Phone</td>\n",
       "      <td>CC</td>\n",
       "      <td>Male</td>\n",
       "      <td>3.0</td>\n",
       "      <td>5</td>\n",
       "      <td>Single</td>\n",
       "      <td>0</td>\n",
       "      <td>1.0</td>\n",
       "      <td>Caleb Cunha</td>\n",
       "    </tr>\n",
       "  </tbody>\n",
       "</table>\n",
       "</div>"
      ],
      "text/plain": [
       "   CustomerID  Churn  Tenure PreferredLoginDevice PreferredPaymentMode  \\\n",
       "0     17850.0      1     4.0         Mobile Phone           Debit Card   \n",
       "1     13047.0      1     NaN                Phone                  UPI   \n",
       "2     12583.0      1     NaN                Phone           Debit Card   \n",
       "3     13748.0      1     0.0                Phone           Debit Card   \n",
       "4     15100.0      1     0.0                Phone                   CC   \n",
       "\n",
       "   Gender  NumberOfDeviceRegistered  SatisfactionScore MaritalStatus  \\\n",
       "0  Female                       3.0                  2        Single   \n",
       "1    Male                       4.0                  3        Single   \n",
       "2    Male                       4.0                  3        Single   \n",
       "3    Male                       4.0             589314        Single   \n",
       "4    Male                       3.0                  5        Single   \n",
       "\n",
       "   Complain  CouponUsed        NomeCustomer  \n",
       "0         1         1.0  Srta. Amanda Sousa  \n",
       "1         1         0.0      Joaquim Câmara  \n",
       "2         1         0.0          Cauã Rocha  \n",
       "3         0         0.0  Sr. Otávio Andrade  \n",
       "4         0         1.0         Caleb Cunha  "
      ]
     },
     "execution_count": 33,
     "metadata": {},
     "output_type": "execute_result"
    }
   ],
   "source": [
    "df_clientes_limpo.head()"
   ]
  },
  {
   "cell_type": "code",
   "execution_count": 34,
   "metadata": {},
   "outputs": [
    {
     "data": {
      "text/plain": [
       "(4372, 12)"
      ]
     },
     "execution_count": 34,
     "metadata": {},
     "output_type": "execute_result"
    }
   ],
   "source": [
    "df_clientes_limpo.shape"
   ]
  },
  {
   "cell_type": "code",
   "execution_count": 35,
   "metadata": {},
   "outputs": [
    {
     "data": {
      "text/plain": [
       "(397884, 8)"
      ]
     },
     "execution_count": 35,
     "metadata": {},
     "output_type": "execute_result"
    }
   ],
   "source": [
    "df_vendas_limpo.shape"
   ]
  },
  {
   "cell_type": "markdown",
   "metadata": {},
   "source": [
    "## **Distribuição dos dados**"
   ]
  },
  {
   "cell_type": "code",
   "execution_count": 36,
   "metadata": {},
   "outputs": [
    {
     "name": "stdout",
     "output_type": "stream",
     "text": [
      "SatisfactionScore\n",
      "3    1286\n",
      "5     903\n",
      "1     897\n",
      "4     839\n",
      "2     447\n",
      "Name: count, dtype: int64\n"
     ]
    }
   ],
   "source": [
    "df_clientes_limpo.loc[df_clientes_limpo['SatisfactionScore'] == 589314, 'SatisfactionScore'] = 5\n",
    "print(df_clientes_limpo['SatisfactionScore'].value_counts())"
   ]
  },
  {
   "cell_type": "markdown",
   "metadata": {},
   "source": []
  }
 ],
 "metadata": {
  "kernelspec": {
   "display_name": "ambiente_inlytics",
   "language": "python",
   "name": "python3"
  },
  "language_info": {
   "codemirror_mode": {
    "name": "ipython",
    "version": 3
   },
   "file_extension": ".py",
   "mimetype": "text/x-python",
   "name": "python",
   "nbconvert_exporter": "python",
   "pygments_lexer": "ipython3",
   "version": "3.10.0"
  }
 },
 "nbformat": 4,
 "nbformat_minor": 2
}
